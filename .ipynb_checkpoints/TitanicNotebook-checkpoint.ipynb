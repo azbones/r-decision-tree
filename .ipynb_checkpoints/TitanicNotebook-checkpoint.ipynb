{
 "cells": [
  {
   "cell_type": "code",
   "execution_count": null,
   "id": "6af40682",
   "metadata": {},
   "outputs": [],
   "source": [
    "library(rpart)\n",
    "library(rattle)\n",
    "library(rpart.plot)\n",
    "library(RColorBrewer)\n",
    "library(caret)\n",
    "\n",
    "## Get the data from a csv file\n",
    "\n",
    "titanic <- read.csv(\"titanic.csv\")\n",
    "\n",
    "## 75% sample for training data\n",
    "sample_size <- floor(0.75 * nrow(titanic))\n",
    "\n",
    "## Use seed to make models reproduceable\n",
    "set.seed(123)\n",
    "\n",
    "## Determine number of rows to sample\n",
    "train_split <- sample(seq_len(nrow(titanic)), size = sample_size)\n",
    "\n",
    "## Split the data into 75% training and 25% testing\n",
    "train <- titanic[train_split, ]\n",
    "test <- titanic[-train_split, ]\n",
    "\n",
    "\n",
    "## Build a decision tree model\n",
    "my_tree <- rpart(Survived ~ Pclass + Sex + Age + Siblings.Spouses.Aboard + Parents.Children.Aboard + Fare, data = train, method = \"class\")\n",
    "\n",
    "## Plot the model results\n",
    "fancyRpartPlot(my_tree)\n",
    "\n",
    "## Create the probabilities for each test data point\n",
    "predict_probs <- as.data.frame(predict(my_tree, newdata = test, type = \"p\"))\n",
    "\n",
    "## Create the predicted test values and ground truth values\n",
    "predicted <- as.integer(predict_probs$`1` > .5)\n",
    "actual <- test$Survived\n",
    "\n",
    "## Build confusion matrix\n",
    "confusionMatrix(as.factor(predicted), as.factor(actual), positive = \"1\")\n",
    "\n",
    "## https://www.dataschool.io/simple-guide-to-confusion-matrix-terminology/\n",
    "\n"
   ]
  }
 ],
 "metadata": {
  "kernelspec": {
   "display_name": "R",
   "language": "R",
   "name": "ir"
  }
 },
 "nbformat": 4,
 "nbformat_minor": 5
}
